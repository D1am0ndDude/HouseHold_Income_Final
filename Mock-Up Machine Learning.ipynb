{
 "cells": [
  {
   "cell_type": "code",
   "execution_count": 1,
   "id": "6509050f",
   "metadata": {},
   "outputs": [],
   "source": [
    "# Import our dependencies\n",
    "from sklearn.model_selection import train_test_split\n",
    "from sklearn.preprocessing import StandardScaler,OneHotEncoder\n",
    "import pandas as pd\n",
    "import tensorflow as tf\n",
    "# Import checkpoint dependencies\n",
    "import os\n",
    "from tensorflow.keras.callbacks import ModelCheckpoint"
   ]
  },
  {
   "cell_type": "code",
   "execution_count": 2,
   "id": "5607c313",
   "metadata": {},
   "outputs": [
    {
     "data": {
      "text/html": [
       "<div>\n",
       "<style scoped>\n",
       "    .dataframe tbody tr th:only-of-type {\n",
       "        vertical-align: middle;\n",
       "    }\n",
       "\n",
       "    .dataframe tbody tr th {\n",
       "        vertical-align: top;\n",
       "    }\n",
       "\n",
       "    .dataframe thead th {\n",
       "        text-align: right;\n",
       "    }\n",
       "</style>\n",
       "<table border=\"1\" class=\"dataframe\">\n",
       "  <thead>\n",
       "    <tr style=\"text-align: right;\">\n",
       "      <th></th>\n",
       "      <th>ID</th>\n",
       "      <th>protocol id</th>\n",
       "      <th>series_ref</th>\n",
       "      <th>quarter</th>\n",
       "      <th>expenditures</th>\n",
       "      <th>groups</th>\n",
       "      <th>index</th>\n",
       "      <th>quarterly</th>\n",
       "      <th>annually</th>\n",
       "      <th>year</th>\n",
       "    </tr>\n",
       "  </thead>\n",
       "  <tbody>\n",
       "    <tr>\n",
       "      <th>0</th>\n",
       "      <td>0</td>\n",
       "      <td>All households</td>\n",
       "      <td>HPIQ.SALL01</td>\n",
       "      <td>1</td>\n",
       "      <td>Food</td>\n",
       "      <td>group</td>\n",
       "      <td>1034</td>\n",
       "      <td>1.3</td>\n",
       "      <td>1.2</td>\n",
       "      <td>2019</td>\n",
       "    </tr>\n",
       "    <tr>\n",
       "      <th>1</th>\n",
       "      <td>1</td>\n",
       "      <td>All households</td>\n",
       "      <td>HPIQ.SALL01</td>\n",
       "      <td>2</td>\n",
       "      <td>Food</td>\n",
       "      <td>group</td>\n",
       "      <td>1038</td>\n",
       "      <td>0.4</td>\n",
       "      <td>1.0</td>\n",
       "      <td>2019</td>\n",
       "    </tr>\n",
       "    <tr>\n",
       "      <th>2</th>\n",
       "      <td>2</td>\n",
       "      <td>All households</td>\n",
       "      <td>HPIQ.SALL01</td>\n",
       "      <td>3</td>\n",
       "      <td>Food</td>\n",
       "      <td>group</td>\n",
       "      <td>1052</td>\n",
       "      <td>1.3</td>\n",
       "      <td>1.6</td>\n",
       "      <td>2019</td>\n",
       "    </tr>\n",
       "    <tr>\n",
       "      <th>3</th>\n",
       "      <td>3</td>\n",
       "      <td>All households</td>\n",
       "      <td>HPIQ.SALL01</td>\n",
       "      <td>4</td>\n",
       "      <td>Food</td>\n",
       "      <td>group</td>\n",
       "      <td>1047</td>\n",
       "      <td>-0.5</td>\n",
       "      <td>2.5</td>\n",
       "      <td>2019</td>\n",
       "    </tr>\n",
       "    <tr>\n",
       "      <th>4</th>\n",
       "      <td>4</td>\n",
       "      <td>All households</td>\n",
       "      <td>HPIQ.SALL01</td>\n",
       "      <td>1</td>\n",
       "      <td>Food</td>\n",
       "      <td>group</td>\n",
       "      <td>1068</td>\n",
       "      <td>2.0</td>\n",
       "      <td>3.3</td>\n",
       "      <td>2020</td>\n",
       "    </tr>\n",
       "  </tbody>\n",
       "</table>\n",
       "</div>"
      ],
      "text/plain": [
       "   ID     protocol id   series_ref  quarter expenditures groups  index  \\\n",
       "0   0  All households  HPIQ.SALL01        1         Food  group   1034   \n",
       "1   1  All households  HPIQ.SALL01        2         Food  group   1038   \n",
       "2   2  All households  HPIQ.SALL01        3         Food  group   1052   \n",
       "3   3  All households  HPIQ.SALL01        4         Food  group   1047   \n",
       "4   4  All households  HPIQ.SALL01        1         Food  group   1068   \n",
       "\n",
       "   quarterly  annually  year  \n",
       "0        1.3       1.2  2019  \n",
       "1        0.4       1.0  2019  \n",
       "2        1.3       1.6  2019  \n",
       "3       -0.5       2.5  2019  \n",
       "4        2.0       3.3  2020  "
      ]
     },
     "execution_count": 2,
     "metadata": {},
     "output_type": "execute_result"
    }
   ],
   "source": [
    "#  Import and read the Clean_Household_Data.csv.\n",
    "import pandas as pd \n",
    "household_df = pd.read_csv(\"../Resources/Clean_Household_Data.csv\")\n",
    "household_df.head()"
   ]
  },
  {
   "cell_type": "code",
   "execution_count": 3,
   "id": "8d53a1c1",
   "metadata": {},
   "outputs": [
    {
     "data": {
      "text/html": [
       "<div>\n",
       "<style scoped>\n",
       "    .dataframe tbody tr th:only-of-type {\n",
       "        vertical-align: middle;\n",
       "    }\n",
       "\n",
       "    .dataframe tbody tr th {\n",
       "        vertical-align: top;\n",
       "    }\n",
       "\n",
       "    .dataframe thead th {\n",
       "        text-align: right;\n",
       "    }\n",
       "</style>\n",
       "<table border=\"1\" class=\"dataframe\">\n",
       "  <thead>\n",
       "    <tr style=\"text-align: right;\">\n",
       "      <th></th>\n",
       "      <th>ID</th>\n",
       "      <th>protocol id</th>\n",
       "      <th>quarter</th>\n",
       "      <th>expenditures</th>\n",
       "      <th>groups</th>\n",
       "      <th>index</th>\n",
       "      <th>quarterly</th>\n",
       "      <th>annually</th>\n",
       "      <th>year</th>\n",
       "    </tr>\n",
       "  </thead>\n",
       "  <tbody>\n",
       "    <tr>\n",
       "      <th>0</th>\n",
       "      <td>0</td>\n",
       "      <td>All households</td>\n",
       "      <td>1</td>\n",
       "      <td>Food</td>\n",
       "      <td>group</td>\n",
       "      <td>1034</td>\n",
       "      <td>1.3</td>\n",
       "      <td>1.2</td>\n",
       "      <td>2019</td>\n",
       "    </tr>\n",
       "    <tr>\n",
       "      <th>1</th>\n",
       "      <td>1</td>\n",
       "      <td>All households</td>\n",
       "      <td>2</td>\n",
       "      <td>Food</td>\n",
       "      <td>group</td>\n",
       "      <td>1038</td>\n",
       "      <td>0.4</td>\n",
       "      <td>1.0</td>\n",
       "      <td>2019</td>\n",
       "    </tr>\n",
       "    <tr>\n",
       "      <th>2</th>\n",
       "      <td>2</td>\n",
       "      <td>All households</td>\n",
       "      <td>3</td>\n",
       "      <td>Food</td>\n",
       "      <td>group</td>\n",
       "      <td>1052</td>\n",
       "      <td>1.3</td>\n",
       "      <td>1.6</td>\n",
       "      <td>2019</td>\n",
       "    </tr>\n",
       "    <tr>\n",
       "      <th>3</th>\n",
       "      <td>3</td>\n",
       "      <td>All households</td>\n",
       "      <td>4</td>\n",
       "      <td>Food</td>\n",
       "      <td>group</td>\n",
       "      <td>1047</td>\n",
       "      <td>-0.5</td>\n",
       "      <td>2.5</td>\n",
       "      <td>2019</td>\n",
       "    </tr>\n",
       "    <tr>\n",
       "      <th>4</th>\n",
       "      <td>4</td>\n",
       "      <td>All households</td>\n",
       "      <td>1</td>\n",
       "      <td>Food</td>\n",
       "      <td>group</td>\n",
       "      <td>1068</td>\n",
       "      <td>2.0</td>\n",
       "      <td>3.3</td>\n",
       "      <td>2020</td>\n",
       "    </tr>\n",
       "  </tbody>\n",
       "</table>\n",
       "</div>"
      ],
      "text/plain": [
       "   ID     protocol id  quarter expenditures groups  index  quarterly  \\\n",
       "0   0  All households        1         Food  group   1034        1.3   \n",
       "1   1  All households        2         Food  group   1038        0.4   \n",
       "2   2  All households        3         Food  group   1052        1.3   \n",
       "3   3  All households        4         Food  group   1047       -0.5   \n",
       "4   4  All households        1         Food  group   1068        2.0   \n",
       "\n",
       "   annually  year  \n",
       "0       1.2  2019  \n",
       "1       1.0  2019  \n",
       "2       1.6  2019  \n",
       "3       2.5  2019  \n",
       "4       3.3  2020  "
      ]
     },
     "execution_count": 3,
     "metadata": {},
     "output_type": "execute_result"
    }
   ],
   "source": [
    "# Drop the non-beneficial ID columns \"series_ref\"\n",
    "household_df = household_df.drop(columns=[\"series_ref\"])\n",
    "household_df.head()"
   ]
  },
  {
   "cell_type": "code",
   "execution_count": 4,
   "id": "e8879b80",
   "metadata": {},
   "outputs": [
    {
     "data": {
      "text/plain": [
       "ID              12810\n",
       "protocol id        14\n",
       "quarter             4\n",
       "expenditures       59\n",
       "groups              4\n",
       "index            1113\n",
       "quarterly         303\n",
       "annually          473\n",
       "year                4\n",
       "dtype: int64"
      ]
     },
     "execution_count": 4,
     "metadata": {},
     "output_type": "execute_result"
    }
   ],
   "source": [
    "# Determine the number of unique values in each column.\n",
    "household_df.nunique()"
   ]
  },
  {
   "cell_type": "code",
   "execution_count": 14,
   "id": "e690f0b2",
   "metadata": {},
   "outputs": [],
   "source": [
    "# Specify the features columns\n",
    "X = household_df.drop(columns = [household_df.columns[-1]])\n",
    "\n",
    "# Specify the target column\n",
    "y = household_df.iloc[:,-1]\n",
    "\n",
    "# Transform non-numerical columns into binary-type columns\n",
    "X = pd.get_dummies(X)\n",
    "\n",
    "# Divide data set into traning and testing subsets\n",
    "X_train, X_test, y_train, y_test = train_test_split(X, y, random_state=104, train_size = 100)"
   ]
  },
  {
   "cell_type": "code",
   "execution_count": 15,
   "id": "60fb49e8",
   "metadata": {},
   "outputs": [],
   "source": [
    "# Import data scaling technique class\n",
    "from sklearn.preprocessing import MaxAbsScaler\n",
    "\n",
    "# Instantiate data scaler\n",
    "scaler = MaxAbsScaler()\n",
    "\n",
    "# Fit the Scaler with the training data\n",
    "X_scaler = scaler.fit(X_train)\n",
    "\n",
    "# Scale the training and testing data\n",
    "X_train_scaled = X_scaler.transform(X_train)\n",
    "X_test_scaled = X_scaler.transform(X_test)"
   ]
  },
  {
   "cell_type": "code",
   "execution_count": 16,
   "id": "9f045289",
   "metadata": {},
   "outputs": [],
   "source": [
    "# Import data resampling class\n",
    "from imblearn.over_sampling import ADASYN\n",
    "\n",
    "# Instantiate data resampler technique\n",
    "adasyn = ADASYN()\n",
    "\n",
    "# Resample training sets\n",
    "X_resampled, y_resampled = adasyn.fit_resample(X_train_scaled, y_train)"
   ]
  },
  {
   "cell_type": "code",
   "execution_count": 17,
   "id": "88f260a7",
   "metadata": {},
   "outputs": [],
   "source": [
    "# Import machine learning model class\n",
    "from sklearn.ensemble import AdaBoostClassifier\n",
    "\n",
    "# Instantiate machine learning model\n",
    "abc = AdaBoostClassifier()\n",
    "\n",
    "# Fit the machine learning model with the training data\n",
    "abc.fit(X_resampled, y_resampled)\n",
    "\n",
    "# Make predictions using the testing data\n",
    "y_pred = abc.predict(X_test_scaled)"
   ]
  },
  {
   "cell_type": "code",
   "execution_count": 18,
   "id": "cbcfccb0",
   "metadata": {},
   "outputs": [
    {
     "name": "stdout",
     "output_type": "stream",
     "text": [
      "0.3053770766240342\n",
      "[[1187 1431  586  188]\n",
      " [1183 1377  615  205]\n",
      " [1276  957  776  388]\n",
      " [1040  324  578  599]]\n",
      "                   pre       rec       spe        f1       geo       iba       sup\n",
      "\n",
      "       2019       0.25      0.35      0.62      0.29      0.47      0.21      3392\n",
      "       2020       0.34      0.41      0.71      0.37      0.54      0.28      3380\n",
      "       2021       0.30      0.23      0.81      0.26      0.43      0.17      3397\n",
      "       2022       0.43      0.24      0.92      0.31      0.47      0.20      2541\n",
      "\n",
      "avg / total       0.33      0.31      0.76      0.31      0.48      0.22     12710\n",
      "\n"
     ]
    }
   ],
   "source": [
    "# Calculate balanced accuracy scrore\n",
    "from sklearn.metrics import balanced_accuracy_score\n",
    "print(balanced_accuracy_score(y_test, y_pred))\n",
    "\n",
    "# Display the confusion matrix\n",
    "from sklearn.metrics import confusion_matrix\n",
    "print(confusion_matrix(y_test, y_pred))\n",
    "\n",
    "# Display the imbalanced classification report\n",
    "from imblearn.metrics import classification_report_imbalanced\n",
    "print(classification_report_imbalanced(y_test, y_pred))"
   ]
  },
  {
   "cell_type": "code",
   "execution_count": 21,
   "id": "32a1e0dd",
   "metadata": {},
   "outputs": [
    {
     "data": {
      "text/plain": [
       "<AxesSubplot:ylabel='Density'>"
      ]
     },
     "execution_count": 21,
     "metadata": {},
     "output_type": "execute_result"
    },
    {
     "data": {
      "image/png": "[encoded data removed]",
      "text/plain": [
       "<Figure size 640x480 with 1 Axes>"
      ]
     },
     "metadata": {},
     "output_type": "display_data"
    }
   ],
   "source": [
    "household_df.plot.density()"
   ]
  },
  {
   "cell_type": "code",
   "execution_count": null,
   "id": "2449deee",
   "metadata": {},
   "outputs": [],
   "source": []
  }
 ],
 "metadata": {
  "kernelspec": {
   "display_name": "mlenv",
   "language": "python",
   "name": "mlenv"
  },
  "language_info": {
   "codemirror_mode": {
    "name": "ipython",
    "version": 3
   },
   "file_extension": ".py",
   "mimetype": "text/x-python",
   "name": "python",
   "nbconvert_exporter": "python",
   "pygments_lexer": "ipython3",
   "version": "3.7.15"
  }
 },
 "nbformat": 4,
 "nbformat_minor": 5
}
