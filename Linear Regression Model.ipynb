{
 "cells": [
  {
   "cell_type": "code",
   "execution_count": 2,
   "id": "a5e34a81",
   "metadata": {},
   "outputs": [
    {
     "data": {
      "text/html": [
       "<div>\n",
       "<style scoped>\n",
       "    .dataframe tbody tr th:only-of-type {\n",
       "        vertical-align: middle;\n",
       "    }\n",
       "\n",
       "    .dataframe tbody tr th {\n",
       "        vertical-align: top;\n",
       "    }\n",
       "\n",
       "    .dataframe thead th {\n",
       "        text-align: right;\n",
       "    }\n",
       "</style>\n",
       "<table border=\"1\" class=\"dataframe\">\n",
       "  <thead>\n",
       "    <tr style=\"text-align: right;\">\n",
       "      <th></th>\n",
       "      <th>protocol id</th>\n",
       "      <th>series_ref</th>\n",
       "      <th>quarter</th>\n",
       "      <th>expenditures</th>\n",
       "      <th>groups</th>\n",
       "      <th>index</th>\n",
       "      <th>quarterly</th>\n",
       "      <th>annually</th>\n",
       "      <th>year</th>\n",
       "      <th>ID</th>\n",
       "    </tr>\n",
       "  </thead>\n",
       "  <tbody>\n",
       "    <tr>\n",
       "      <th>0</th>\n",
       "      <td>All households</td>\n",
       "      <td>HPIQ.SALL01</td>\n",
       "      <td>1</td>\n",
       "      <td>Food</td>\n",
       "      <td>group</td>\n",
       "      <td>1034</td>\n",
       "      <td>1.3</td>\n",
       "      <td>1.2</td>\n",
       "      <td>2019</td>\n",
       "      <td>39</td>\n",
       "    </tr>\n",
       "    <tr>\n",
       "      <th>1</th>\n",
       "      <td>All households</td>\n",
       "      <td>HPIQ.SALL01</td>\n",
       "      <td>2</td>\n",
       "      <td>Food</td>\n",
       "      <td>group</td>\n",
       "      <td>1038</td>\n",
       "      <td>0.4</td>\n",
       "      <td>1.0</td>\n",
       "      <td>2019</td>\n",
       "      <td>40</td>\n",
       "    </tr>\n",
       "    <tr>\n",
       "      <th>2</th>\n",
       "      <td>All households</td>\n",
       "      <td>HPIQ.SALL01</td>\n",
       "      <td>3</td>\n",
       "      <td>Food</td>\n",
       "      <td>group</td>\n",
       "      <td>1052</td>\n",
       "      <td>1.3</td>\n",
       "      <td>1.6</td>\n",
       "      <td>2019</td>\n",
       "      <td>41</td>\n",
       "    </tr>\n",
       "    <tr>\n",
       "      <th>3</th>\n",
       "      <td>All households</td>\n",
       "      <td>HPIQ.SALL01</td>\n",
       "      <td>4</td>\n",
       "      <td>Food</td>\n",
       "      <td>group</td>\n",
       "      <td>1047</td>\n",
       "      <td>-0.5</td>\n",
       "      <td>2.5</td>\n",
       "      <td>2019</td>\n",
       "      <td>42</td>\n",
       "    </tr>\n",
       "    <tr>\n",
       "      <th>4</th>\n",
       "      <td>All households</td>\n",
       "      <td>HPIQ.SALL011</td>\n",
       "      <td>1</td>\n",
       "      <td>Fruit and vegetables</td>\n",
       "      <td>subgroup</td>\n",
       "      <td>1048</td>\n",
       "      <td>5.6</td>\n",
       "      <td>-2.3</td>\n",
       "      <td>2019</td>\n",
       "      <td>93</td>\n",
       "    </tr>\n",
       "  </tbody>\n",
       "</table>\n",
       "</div>"
      ],
      "text/plain": [
       "      protocol id    series_ref  quarter          expenditures    groups  \\\n",
       "0  All households   HPIQ.SALL01        1                  Food     group   \n",
       "1  All households   HPIQ.SALL01        2                  Food     group   \n",
       "2  All households   HPIQ.SALL01        3                  Food     group   \n",
       "3  All households   HPIQ.SALL01        4                  Food     group   \n",
       "4  All households  HPIQ.SALL011        1  Fruit and vegetables  subgroup   \n",
       "\n",
       "   index  quarterly  annually  year  ID  \n",
       "0   1034        1.3       1.2  2019  39  \n",
       "1   1038        0.4       1.0  2019  40  \n",
       "2   1052        1.3       1.6  2019  41  \n",
       "3   1047       -0.5       2.5  2019  42  \n",
       "4   1048        5.6      -2.3  2019  93  "
      ]
     },
     "execution_count": 2,
     "metadata": {},
     "output_type": "execute_result"
    }
   ],
   "source": [
    "from pathlib import Path\n",
    "import pandas as pd\n",
    "from sklearn.model_selection import train_test_split\n",
    "from sklearn.linear_model import LogisticRegression\n",
    "from sklearn.metrics import accuracy_score\n",
    "from sklearn.preprocessing import StandardScaler,OneHotEncoder\n",
    "import pandas as pd\n",
    "# Import checkpoint dependencies\n",
    "import os\n",
    "data = Path('../Final/Clean_Income.csv')\n",
    "df = pd.read_csv(data)\n",
    "df.head()"
   ]
  },
  {
   "cell_type": "code",
   "execution_count": 3,
   "id": "22d106da",
   "metadata": {},
   "outputs": [],
   "source": [
    "df= df.drop(['protocol id', 'series_ref','expenditures','groups'], axis=1)"
   ]
  },
  {
   "cell_type": "code",
   "execution_count": 4,
   "id": "5d7a0f4b",
   "metadata": {},
   "outputs": [
    {
     "data": {
      "text/plain": [
       "quarter        int64\n",
       "index          int64\n",
       "quarterly    float64\n",
       "annually     float64\n",
       "year           int64\n",
       "ID             int64\n",
       "dtype: object"
      ]
     },
     "execution_count": 4,
     "metadata": {},
     "output_type": "execute_result"
    }
   ],
   "source": [
    "df.dtypes"
   ]
  },
  {
   "cell_type": "code",
   "execution_count": 5,
   "id": "64e27c10",
   "metadata": {},
   "outputs": [],
   "source": [
    "#split x/y variables\n",
    "y = df[\"index\"]\n",
    "X = df.drop(columns=\"index\")"
   ]
  },
  {
   "cell_type": "code",
   "execution_count": 6,
   "id": "35fbffa9",
   "metadata": {},
   "outputs": [],
   "source": [
    "df = df[df['index'] == 3]"
   ]
  },
  {
   "cell_type": "code",
   "execution_count": 7,
   "id": "3078528d",
   "metadata": {},
   "outputs": [],
   "source": [
    "# # Determine which values to replace if counts are less than ...?\n",
    "# df = list(df[df < 3].index)\n",
    "\n",
    "# # Replace in dataframe\n",
    "# for i in df:\n",
    "#     df.index = df.index.drop(i)\n",
    "    \n",
    "# # Check to make sure binning was successful\n",
    "# df.index.value_counts()"
   ]
  },
  {
   "cell_type": "code",
   "execution_count": 8,
   "id": "1c404777",
   "metadata": {},
   "outputs": [
    {
     "data": {
      "text/plain": [
       "(8582, 5)"
      ]
     },
     "execution_count": 8,
     "metadata": {},
     "output_type": "execute_result"
    }
   ],
   "source": [
    "#split into training and test set(larger set is training set)\n",
    "# X_train, x_test, y_train, y_test = train_test_split(X,y, random_state=1,stratify=y)\n",
    "X_train, x_test, y_train, y_test = train_test_split(X,y,test_size=0.33, random_state=42)\n",
    "X_train.shape"
   ]
  },
  {
   "cell_type": "code",
   "execution_count": 9,
   "id": "9c5e96b6",
   "metadata": {},
   "outputs": [],
   "source": [
    "#predict method, giving x_test variable as an argument\n",
    "classifier = LogisticRegression(solver='lbfgs', max_iter=200, random_state=1)"
   ]
  },
  {
   "cell_type": "code",
   "execution_count": 10,
   "id": "0c9f9071",
   "metadata": {},
   "outputs": [
    {
     "name": "stderr",
     "output_type": "stream",
     "text": [
      "C:\\Users\\eric\\anaconda3\\envs\\PythonData\\lib\\site-packages\\sklearn\\linear_model\\_logistic.py:818: ConvergenceWarning: lbfgs failed to converge (status=1):\n",
      "STOP: TOTAL NO. of ITERATIONS REACHED LIMIT.\n",
      "\n",
      "Increase the number of iterations (max_iter) or scale the data as shown in:\n",
      "    https://scikit-learn.org/stable/modules/preprocessing.html\n",
      "Please also refer to the documentation for alternative solver options:\n",
      "    https://scikit-learn.org/stable/modules/linear_model.html#logistic-regression\n",
      "  extra_warning_msg=_LOGISTIC_SOLVER_CONVERGENCE_MSG,\n"
     ]
    },
    {
     "data": {
      "text/plain": [
       "LogisticRegression(max_iter=200, random_state=1)"
      ]
     },
     "execution_count": 10,
     "metadata": {},
     "output_type": "execute_result"
    }
   ],
   "source": [
    "classifier.fit(X_train, y_train)"
   ]
  },
  {
   "cell_type": "code",
   "execution_count": 11,
   "id": "6979c000",
   "metadata": {},
   "outputs": [
    {
     "data": {
      "text/html": [
       "<div>\n",
       "<style scoped>\n",
       "    .dataframe tbody tr th:only-of-type {\n",
       "        vertical-align: middle;\n",
       "    }\n",
       "\n",
       "    .dataframe tbody tr th {\n",
       "        vertical-align: top;\n",
       "    }\n",
       "\n",
       "    .dataframe thead th {\n",
       "        text-align: right;\n",
       "    }\n",
       "</style>\n",
       "<table border=\"1\" class=\"dataframe\">\n",
       "  <thead>\n",
       "    <tr style=\"text-align: right;\">\n",
       "      <th></th>\n",
       "      <th>Prediction</th>\n",
       "      <th>Actual</th>\n",
       "    </tr>\n",
       "  </thead>\n",
       "  <tbody>\n",
       "    <tr>\n",
       "      <th>0</th>\n",
       "      <td>1033</td>\n",
       "      <td>1003</td>\n",
       "    </tr>\n",
       "    <tr>\n",
       "      <th>1</th>\n",
       "      <td>1082</td>\n",
       "      <td>1651</td>\n",
       "    </tr>\n",
       "    <tr>\n",
       "      <th>2</th>\n",
       "      <td>1033</td>\n",
       "      <td>917</td>\n",
       "    </tr>\n",
       "    <tr>\n",
       "      <th>3</th>\n",
       "      <td>1033</td>\n",
       "      <td>1181</td>\n",
       "    </tr>\n",
       "    <tr>\n",
       "      <th>4</th>\n",
       "      <td>1033</td>\n",
       "      <td>1021</td>\n",
       "    </tr>\n",
       "    <tr>\n",
       "      <th>5</th>\n",
       "      <td>1033</td>\n",
       "      <td>1237</td>\n",
       "    </tr>\n",
       "    <tr>\n",
       "      <th>6</th>\n",
       "      <td>1033</td>\n",
       "      <td>949</td>\n",
       "    </tr>\n",
       "    <tr>\n",
       "      <th>7</th>\n",
       "      <td>1082</td>\n",
       "      <td>1024</td>\n",
       "    </tr>\n",
       "    <tr>\n",
       "      <th>8</th>\n",
       "      <td>1088</td>\n",
       "      <td>1202</td>\n",
       "    </tr>\n",
       "    <tr>\n",
       "      <th>9</th>\n",
       "      <td>1082</td>\n",
       "      <td>1054</td>\n",
       "    </tr>\n",
       "    <tr>\n",
       "      <th>10</th>\n",
       "      <td>1082</td>\n",
       "      <td>1053</td>\n",
       "    </tr>\n",
       "    <tr>\n",
       "      <th>11</th>\n",
       "      <td>1033</td>\n",
       "      <td>486</td>\n",
       "    </tr>\n",
       "    <tr>\n",
       "      <th>12</th>\n",
       "      <td>1082</td>\n",
       "      <td>1053</td>\n",
       "    </tr>\n",
       "    <tr>\n",
       "      <th>13</th>\n",
       "      <td>1033</td>\n",
       "      <td>1075</td>\n",
       "    </tr>\n",
       "    <tr>\n",
       "      <th>14</th>\n",
       "      <td>1033</td>\n",
       "      <td>1073</td>\n",
       "    </tr>\n",
       "    <tr>\n",
       "      <th>15</th>\n",
       "      <td>1033</td>\n",
       "      <td>1089</td>\n",
       "    </tr>\n",
       "    <tr>\n",
       "      <th>16</th>\n",
       "      <td>1033</td>\n",
       "      <td>1098</td>\n",
       "    </tr>\n",
       "    <tr>\n",
       "      <th>17</th>\n",
       "      <td>1033</td>\n",
       "      <td>1024</td>\n",
       "    </tr>\n",
       "    <tr>\n",
       "      <th>18</th>\n",
       "      <td>1082</td>\n",
       "      <td>344</td>\n",
       "    </tr>\n",
       "    <tr>\n",
       "      <th>19</th>\n",
       "      <td>1082</td>\n",
       "      <td>944</td>\n",
       "    </tr>\n",
       "  </tbody>\n",
       "</table>\n",
       "</div>"
      ],
      "text/plain": [
       "    Prediction  Actual\n",
       "0         1033    1003\n",
       "1         1082    1651\n",
       "2         1033     917\n",
       "3         1033    1181\n",
       "4         1033    1021\n",
       "5         1033    1237\n",
       "6         1033     949\n",
       "7         1082    1024\n",
       "8         1088    1202\n",
       "9         1082    1054\n",
       "10        1082    1053\n",
       "11        1033     486\n",
       "12        1082    1053\n",
       "13        1033    1075\n",
       "14        1033    1073\n",
       "15        1033    1089\n",
       "16        1033    1098\n",
       "17        1033    1024\n",
       "18        1082     344\n",
       "19        1082     944"
      ]
     },
     "execution_count": 11,
     "metadata": {},
     "output_type": "execute_result"
    }
   ],
   "source": [
    "#predictions\n",
    "y_pred = classifier.predict(x_test)\n",
    "results = pd.DataFrame({\"Prediction\": y_pred, \"Actual\": y_test}).reset_index(drop=True)\n",
    "results.head(20)"
   ]
  },
  {
   "cell_type": "code",
   "execution_count": 12,
   "id": "8a979329",
   "metadata": {},
   "outputs": [
    {
     "name": "stdout",
     "output_type": "stream",
     "text": [
      "0.00402081362346263\n"
     ]
    }
   ],
   "source": [
    "#percentage results\n",
    "print(accuracy_score(y_test, y_pred))"
   ]
  },
  {
   "cell_type": "code",
   "execution_count": null,
   "id": "4eec9923",
   "metadata": {},
   "outputs": [],
   "source": []
  },
  {
   "cell_type": "code",
   "execution_count": null,
   "id": "9e363da3",
   "metadata": {},
   "outputs": [],
   "source": []
  },
  {
   "cell_type": "code",
   "execution_count": null,
   "id": "43426074",
   "metadata": {},
   "outputs": [],
   "source": []
  },
  {
   "cell_type": "code",
   "execution_count": null,
   "id": "9c5faa8e",
   "metadata": {},
   "outputs": [],
   "source": []
  },
  {
   "cell_type": "code",
   "execution_count": null,
   "id": "93e11199",
   "metadata": {},
   "outputs": [],
   "source": []
  }
 ],
 "metadata": {
  "kernelspec": {
   "display_name": "mlenv",
   "language": "python",
   "name": "mlenv"
  },
  "language_info": {
   "codemirror_mode": {
    "name": "ipython",
    "version": 3
   },
   "file_extension": ".py",
   "mimetype": "text/x-python",
   "name": "python",
   "nbconvert_exporter": "python",
   "pygments_lexer": "ipython3",
   "version": "3.7.13"
  }
 },
 "nbformat": 4,
 "nbformat_minor": 5
}
